{
 "cells": [
  {
   "cell_type": "code",
   "execution_count": 1,
   "metadata": {},
   "outputs": [],
   "source": [
    "import pickle\n",
    "import IPython.display as ipd\n",
    "# feature extractoring and preprocessing data\n",
    "import librosa\n",
    "import librosa.display\n",
    "import pandas as pd\n",
    "import numpy as np\n",
    "import matplotlib.pyplot as plt\n",
    "%matplotlib inline\n",
    "from pathlib import Path\n",
    "import csv\n",
    "# Preprocessing\n",
    "from sklearn.model_selection import train_test_split\n",
    "from sklearn.preprocessing import LabelEncoder, StandardScaler\n",
    "from scipy import signal\n",
    "import noisereduce as nr\n",
    "#Reports\n",
    "from sklearn.metrics import classification_report, confusion_matrix, f1_score, accuracy_score\n",
    "from tqdm import tqdm\n",
    "import warnings\n",
    "warnings.filterwarnings('ignore')\n",
    "\n",
    "import pickle"
   ]
  },
  {
   "cell_type": "code",
   "execution_count": 2,
   "metadata": {},
   "outputs": [],
   "source": [
    "def f_high(y,sr):\n",
    "    from scipy import signal\n",
    "    b,a = signal.butter(10, 2000/(sr/2), btype='highpass')\n",
    "    yf = signal.lfilter(b,a,y)\n",
    "    return yf"
   ]
  },
  {
   "cell_type": "code",
   "execution_count": 3,
   "metadata": {},
   "outputs": [],
   "source": [
    "def reduce_noise(y, sr):\n",
    "    reduced_noise = nr.reduce_noise(y=y, sr=sr, thresh_n_mult_nonstationary=2,stationary=False)\n",
    "    return f_high(reduced_noise, sr)"
   ]
  },
  {
   "cell_type": "code",
   "execution_count": 4,
   "metadata": {},
   "outputs": [],
   "source": [
    "def feature_extractor(sound_path):\n",
    "    sr = 32000\n",
    "    y, y_sr = librosa.load(sound_path, mono=True)\n",
    "    chroma_stft = librosa.feature.chroma_stft(y=y, sr=y_sr)\n",
    "    rmse = librosa.feature.rms(y=y)\n",
    "    spec_cent = librosa.feature.spectral_centroid(y=y, sr=sr)\n",
    "    spec_bw = librosa.feature.spectral_bandwidth(y=y, sr=sr)\n",
    "    rolloff = librosa.feature.spectral_rolloff(y=y, sr=sr)\n",
    "    zcr = librosa.feature.zero_crossing_rate(y)\n",
    "    mfcc = librosa.feature.mfcc(y=y, sr=sr)\n",
    "    to_append = f'{np.mean(chroma_stft)} {np.mean(rmse)} {np.mean(spec_cent)} {np.mean(spec_bw)} {np.mean(rolloff)} {np.mean(zcr)}'    \n",
    "    for e in mfcc:\n",
    "        to_append += f' {np.mean(e)}'\n",
    "    y_denoise = reduce_noise(y, y_sr)\n",
    "    chroma_stft = librosa.feature.chroma_stft(y=y_denoise, sr=y_sr)\n",
    "    rmse = librosa.feature.rms(y=y_denoise)\n",
    "    spec_cent = librosa.feature.spectral_centroid(y=y_denoise, sr=sr)\n",
    "    spec_bw = librosa.feature.spectral_bandwidth(y=y_denoise, sr=sr)\n",
    "    rolloff = librosa.feature.spectral_rolloff(y=y_denoise, sr=sr)\n",
    "    zcr = librosa.feature.zero_crossing_rate(y_denoise)\n",
    "    mfcc = librosa.feature.mfcc(y=y_denoise, sr=sr)\n",
    "    to_append += f' {np.mean(chroma_stft)} {np.mean(rmse)} {np.mean(spec_cent)} {np.mean(spec_bw)} {np.mean(rolloff)} {np.mean(zcr)}'    \n",
    "    for e in mfcc:\n",
    "        to_append += f' {np.mean(e)}'\n",
    "    # print(to_append)\n",
    "    file = open('demo.csv', 'a', newline='')\n",
    "    writer = csv.writer(file)\n",
    "    writer.writerow(to_append.split())\n",
    "    file.close()"
   ]
  },
  {
   "cell_type": "code",
   "execution_count": 5,
   "metadata": {},
   "outputs": [],
   "source": [
    "audio_path = Path('./mallar3/')"
   ]
  },
  {
   "cell_type": "code",
   "execution_count": 29,
   "metadata": {},
   "outputs": [],
   "source": [
    "import os\n",
    "from os import listdir\n",
    "from os.path import isfile, join\n",
    "files = [f for f in listdir(audio_path) if isfile(join(audio_path, f))]"
   ]
  },
  {
   "cell_type": "code",
   "execution_count": 30,
   "metadata": {},
   "outputs": [
    {
     "data": {
      "text/plain": [
       "['XC11495.mp3', 'XC23521.mp3', 'XC25611.mp3', 'XC138603.mp3', 'XC26968.mp3']"
      ]
     },
     "execution_count": 30,
     "metadata": {},
     "output_type": "execute_result"
    }
   ],
   "source": [
    "files"
   ]
  },
  {
   "cell_type": "markdown",
   "metadata": {},
   "source": [
    "## 3_class SGD"
   ]
  },
  {
   "cell_type": "markdown",
   "metadata": {},
   "source": [
    "### RFE"
   ]
  },
  {
   "cell_type": "code",
   "execution_count": 31,
   "metadata": {},
   "outputs": [
    {
     "data": {
      "text/plain": [
       "array(['mallar3', 'comrav', 'barswa', 'mallar3', 'eucdov'], dtype='<U7')"
      ]
     },
     "execution_count": 31,
     "metadata": {},
     "output_type": "execute_result"
    }
   ],
   "source": [
    "header = 'chroma_stft rmse spectral_centroid spectral_bandwidth rolloff zero_crossing_rate'\n",
    "for i in range(1, 21):\n",
    "    header += f' mfcc{i}'\n",
    "header += ' de_chroma_stft de_rmse de_spectral_centroid de_spectral_bandwidth de_rolloff de_zero_crossing_rate'\n",
    "for i in range(1, 21):\n",
    "    header += f' de_mfcc{i}'\n",
    "header = header.split()\n",
    "file = open('demo.csv', 'w', newline='')\n",
    "writer = csv.writer(file)\n",
    "writer.writerow(header)\n",
    "file.close()\n",
    "\n",
    "for file in files:\n",
    "    feature_extractor(audio_path/file)\n",
    "\n",
    "data = pd.read_csv('./demo.csv')\n",
    "\n",
    "class_3_rfe_sgd = pickle.load(open('../models/3_class_rfe_sgd.pkl', 'rb'))\n",
    "\n",
    "scaler = StandardScaler()\n",
    "X = pd.DataFrame(scaler.fit_transform(np.array(data[class_3_rfe_sgd.feature_names_in_], dtype = float)))\n",
    "class_3_rfe_sgd.predict(X)"
   ]
  },
  {
   "cell_type": "markdown",
   "metadata": {},
   "source": [
    "### Simple SGD"
   ]
  },
  {
   "cell_type": "code",
   "execution_count": 32,
   "metadata": {},
   "outputs": [
    {
     "data": {
      "text/plain": [
       "array(['mallar3', 'comrav', 'comrav', 'mallar3', 'eucdov'], dtype='<U7')"
      ]
     },
     "execution_count": 32,
     "metadata": {},
     "output_type": "execute_result"
    }
   ],
   "source": [
    "header = 'chroma_stft rmse spectral_centroid spectral_bandwidth rolloff zero_crossing_rate'\n",
    "for i in range(1, 21):\n",
    "    header += f' mfcc{i}'\n",
    "header += ' de_chroma_stft de_rmse de_spectral_centroid de_spectral_bandwidth de_rolloff de_zero_crossing_rate'\n",
    "for i in range(1, 21):\n",
    "    header += f' de_mfcc{i}'\n",
    "header = header.split()\n",
    "file = open('demo.csv', 'w', newline='')\n",
    "writer = csv.writer(file)\n",
    "writer.writerow(header)\n",
    "file.close()\n",
    "\n",
    "for file in files:\n",
    "    feature_extractor(audio_path/file)\n",
    "\n",
    "data = pd.read_csv('./demo.csv')\n",
    "\n",
    "class_3_sgd = pickle.load(open('../models/3_class_SGDClassifier.pkl', 'rb'))\n",
    "\n",
    "scaler = StandardScaler()\n",
    "X = pd.DataFrame(scaler.fit_transform(np.array(data[class_3_sgd.feature_names_in_], dtype = float)))\n",
    "class_3_sgd.predict(X)"
   ]
  },
  {
   "cell_type": "markdown",
   "metadata": {},
   "source": [
    "## 5_class SGD"
   ]
  },
  {
   "cell_type": "code",
   "execution_count": 9,
   "metadata": {},
   "outputs": [
    {
     "data": {
      "text/plain": [
       "array(['comrav', 'comrav', 'barswa', 'mallar3', 'eucdov'], dtype='<U7')"
      ]
     },
     "execution_count": 9,
     "metadata": {},
     "output_type": "execute_result"
    }
   ],
   "source": [
    "header = 'chroma_stft rmse spectral_centroid spectral_bandwidth rolloff zero_crossing_rate'\n",
    "for i in range(1, 21):\n",
    "    header += f' mfcc{i}'\n",
    "header += ' de_chroma_stft de_rmse de_spectral_centroid de_spectral_bandwidth de_rolloff de_zero_crossing_rate'\n",
    "for i in range(1, 21):\n",
    "    header += f' de_mfcc{i}'\n",
    "header = header.split()\n",
    "file = open('demo.csv', 'w', newline='')\n",
    "writer = csv.writer(file)\n",
    "writer.writerow(header)\n",
    "file.close()\n",
    "\n",
    "for file in files:\n",
    "    feature_extractor(audio_path/file)\n",
    "\n",
    "data = pd.read_csv('./demo.csv')\n",
    "\n",
    "class_5_rfe_sgd = pickle.load(open('../models/5_class_rfe_sgd.pkl', 'rb'))\n",
    "scaler = StandardScaler()\n",
    "X = pd.DataFrame(scaler.fit_transform(np.array(data[class_5_rfe_sgd.feature_names_in_], dtype = float)))\n",
    "class_5_rfe_sgd.predict(X)"
   ]
  },
  {
   "cell_type": "code",
   "execution_count": 10,
   "metadata": {},
   "outputs": [
    {
     "data": {
      "text/plain": [
       "array(['mallar3', 'comrav', 'barswa', 'mallar3', 'eucdov'], dtype='<U7')"
      ]
     },
     "execution_count": 10,
     "metadata": {},
     "output_type": "execute_result"
    }
   ],
   "source": [
    "header = 'chroma_stft rmse spectral_centroid spectral_bandwidth rolloff zero_crossing_rate'\n",
    "for i in range(1, 21):\n",
    "    header += f' mfcc{i}'\n",
    "header += ' de_chroma_stft de_rmse de_spectral_centroid de_spectral_bandwidth de_rolloff de_zero_crossing_rate'\n",
    "for i in range(1, 21):\n",
    "    header += f' de_mfcc{i}'\n",
    "header = header.split()\n",
    "file = open('demo.csv', 'w', newline='')\n",
    "writer = csv.writer(file)\n",
    "writer.writerow(header)\n",
    "file.close()\n",
    "\n",
    "for file in files:\n",
    "    feature_extractor(audio_path/file)\n",
    "\n",
    "data = pd.read_csv('./demo.csv')\n",
    "\n",
    "class_5_sgd = pickle.load(open('../models/5_class_SGDClassifier.pkl', 'rb'))\n",
    "\n",
    "scaler = StandardScaler()\n",
    "X = pd.DataFrame(scaler.fit_transform(np.array(data[class_5_sgd.feature_names_in_], dtype = float)))\n",
    "class_5_sgd.predict(X)"
   ]
  },
  {
   "cell_type": "markdown",
   "metadata": {},
   "source": [
    "## 3_class Random Forest"
   ]
  },
  {
   "cell_type": "code",
   "execution_count": 33,
   "metadata": {},
   "outputs": [
    {
     "data": {
      "text/plain": [
       "array(['comrav', 'mallar3', 'comrav', 'mallar3', 'eucdov'], dtype=object)"
      ]
     },
     "execution_count": 33,
     "metadata": {},
     "output_type": "execute_result"
    }
   ],
   "source": [
    "header = 'chroma_stft rmse spectral_centroid spectral_bandwidth rolloff zero_crossing_rate'\n",
    "for i in range(1, 21):\n",
    "    header += f' mfcc{i}'\n",
    "header += ' de_chroma_stft de_rmse de_spectral_centroid de_spectral_bandwidth de_rolloff de_zero_crossing_rate'\n",
    "for i in range(1, 21):\n",
    "    header += f' de_mfcc{i}'\n",
    "header = header.split()\n",
    "file = open('demo.csv', 'w', newline='')\n",
    "writer = csv.writer(file)\n",
    "writer.writerow(header)\n",
    "file.close()\n",
    "\n",
    "for file in files:\n",
    "    feature_extractor(audio_path/file)\n",
    "\n",
    "data = pd.read_csv('./demo.csv')\n",
    "\n",
    "class_r_rf = pickle.load(open('../models/3_class_RandomForestClassifier.pkl', 'rb'))\n",
    "\n",
    "scaler = StandardScaler()\n",
    "X = pd.DataFrame(scaler.fit_transform(np.array(data[class_r_rf.feature_names_in_], dtype = float)))\n",
    "class_r_rf.predict(X)"
   ]
  }
 ],
 "metadata": {
  "kernelspec": {
   "display_name": "Python 3.10.6 ('classifier-6kmiv1wi')",
   "language": "python",
   "name": "python3"
  },
  "language_info": {
   "codemirror_mode": {
    "name": "ipython",
    "version": 3
   },
   "file_extension": ".py",
   "mimetype": "text/x-python",
   "name": "python",
   "nbconvert_exporter": "python",
   "pygments_lexer": "ipython3",
   "version": "3.10.6 (main, Nov 14 2022, 16:10:14) [GCC 11.3.0]"
  },
  "orig_nbformat": 4,
  "vscode": {
   "interpreter": {
    "hash": "301c2243a5f978eb8d0b3cbdd508660e93a1295d21275fecc963b64e41b6887b"
   }
  }
 },
 "nbformat": 4,
 "nbformat_minor": 2
}
