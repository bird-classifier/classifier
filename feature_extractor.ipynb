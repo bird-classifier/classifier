{
 "cells": [
  {
   "cell_type": "code",
   "execution_count": null,
   "metadata": {},
   "outputs": [],
   "source": [
    "import pickle\n",
    "import IPython.display as ipd\n",
    "# feature extractoring and preprocessing data\n",
    "import librosa\n",
    "import librosa.display\n",
    "import pandas as pd\n",
    "import numpy as np\n",
    "import matplotlib.pyplot as plt\n",
    "%matplotlib inline\n",
    "from pathlib import Path\n",
    "import csv\n",
    "# Preprocessing\n",
    "from sklearn.model_selection import train_test_split\n",
    "from sklearn.preprocessing import LabelEncoder, StandardScaler\n",
    "from scipy import signal\n",
    "import noisereduce as nr\n",
    "#Reports\n",
    "from sklearn.metrics import classification_report, confusion_matrix, f1_score, accuracy_score\n",
    "from tqdm import tqdm\n",
    "import warnings\n",
    "warnings.filterwarnings('ignore')\n",
    "\n",
    "import pickle"
   ]
  },
  {
   "cell_type": "markdown",
   "metadata": {},
   "source": [
    "## Preprocessing\n",
    "Do not run this block unless you have new data"
   ]
  },
  {
   "cell_type": "code",
   "execution_count": null,
   "metadata": {},
   "outputs": [],
   "source": [
    "audio_path = Path('/media/sasanka/Expansion/xeno-canto-bird-recordings-extended-a-m/A-M')"
   ]
  },
  {
   "cell_type": "code",
   "execution_count": null,
   "metadata": {},
   "outputs": [],
   "source": [
    "e_file = '/media/sasanka/Expansion/xeno-canto-bird-recordings-extended-a-m/A-M/amecro/XC264942.mp3'\n",
    "ipd.display(ipd.Audio(e_file))\n",
    "y, sr = librosa.load(e_file)\n",
    "reduced_noise = nr.reduce_noise(y=y, sr=sr, thresh_n_mult_nonstationary=2,stationary=False)"
   ]
  },
  {
   "cell_type": "code",
   "execution_count": null,
   "metadata": {},
   "outputs": [],
   "source": [
    "ipd.Audio(data=reduced_noise, rate=sr)"
   ]
  },
  {
   "cell_type": "code",
   "execution_count": null,
   "metadata": {},
   "outputs": [],
   "source": [
    "from scipy import signal\n",
    "def f_high(y,sr):\n",
    "    b,a = signal.butter(10, 2000/(sr/2), btype='highpass')\n",
    "    yf = signal.lfilter(b,a,y)\n",
    "    return yf"
   ]
  },
  {
   "cell_type": "code",
   "execution_count": null,
   "metadata": {},
   "outputs": [],
   "source": [
    "ipd.Audio(data=f_high(reduced_noise, sr), rate=sr)"
   ]
  },
  {
   "cell_type": "code",
   "execution_count": null,
   "metadata": {},
   "outputs": [],
   "source": [
    "plt.figure(figsize=(14, 5))\n",
    "librosa.display.waveshow(y, sr=sr)\n",
    "librosa.display.waveshow(f_high(y, sr), sr=sr)\n",
    "librosa.display.waveshow(reduced_noise, sr=sr)\n",
    "librosa.display.waveshow(f_high(reduced_noise, sr), sr=sr)"
   ]
  },
  {
   "cell_type": "code",
   "execution_count": null,
   "metadata": {},
   "outputs": [],
   "source": [
    "sr = 32000"
   ]
  },
  {
   "cell_type": "code",
   "execution_count": null,
   "metadata": {},
   "outputs": [],
   "source": [
    "df = pd.read_csv('./train_extended.csv')\n",
    "print(sorted(set(df.ebird_code)))"
   ]
  },
  {
   "cell_type": "code",
   "execution_count": null,
   "metadata": {},
   "outputs": [],
   "source": [
    "df = pd.read_csv('./train_extended.csv')\n",
    "# Selecting high-rated sound only\n",
    "dff = df[df['rating'] > 3.0]\n",
    "# Selecting shorter files only, less data to process\n",
    "dff = dff[df['duration'] < 20]\n",
    "print(len(dff))"
   ]
  },
  {
   "cell_type": "code",
   "execution_count": null,
   "metadata": {},
   "outputs": [],
   "source": [
    "# Selecting birds with more than 10 examples left\n",
    "dfc = dff.groupby('ebird_code')['ebird_code'].count()\n",
    "dff = dff[~dff['ebird_code'].isin(dfc[dfc.values < 20].index)]\n",
    "print(len(dff))"
   ]
  },
  {
   "cell_type": "code",
   "execution_count": null,
   "metadata": {},
   "outputs": [],
   "source": [
    "header = 'filename label chroma_stft rmse spectral_centroid spectral_bandwidth rolloff zero_crossing_rate'\n",
    "for i in range(1, 21):\n",
    "    header += f' mfcc{i}'\n",
    "header += ' de_chroma_stft de_rmse de_spectral_centroid de_spectral_bandwidth de_rolloff de_zero_crossing_rate'\n",
    "for i in range(1, 21):\n",
    "    header += f' de_mfcc{i}'\n",
    "header = header.split()\n",
    "file = open('extracted_data.csv', 'w', newline='')\n",
    "writer = csv.writer(file)\n",
    "writer.writerow(header)\n",
    "file.close()"
   ]
  },
  {
   "cell_type": "code",
   "execution_count": null,
   "metadata": {},
   "outputs": [],
   "source": [
    "def reduce_noise(y, sr):\n",
    "    reduced_noise = nr.reduce_noise(y=y, sr=sr, thresh_n_mult_nonstationary=2,stationary=False)\n",
    "    return f_high(reduced_noise, sr)"
   ]
  },
  {
   "cell_type": "code",
   "execution_count": null,
   "metadata": {},
   "outputs": [],
   "source": [
    "def feature_extractor(sound_path, category_name, file_name):\n",
    "    y, y_sr = librosa.load(sound_path, mono=True)\n",
    "    chroma_stft = librosa.feature.chroma_stft(y=y, sr=y_sr)\n",
    "    rmse = librosa.feature.rms(y=y)\n",
    "    spec_cent = librosa.feature.spectral_centroid(y=y, sr=sr)\n",
    "    spec_bw = librosa.feature.spectral_bandwidth(y=y, sr=sr)\n",
    "    rolloff = librosa.feature.spectral_rolloff(y=y, sr=sr)\n",
    "    zcr = librosa.feature.zero_crossing_rate(y)\n",
    "    mfcc = librosa.feature.mfcc(y=y, sr=sr)\n",
    "    to_append = f'{file_name} {category_name} {np.mean(chroma_stft)} {np.mean(rmse)} {np.mean(spec_cent)} {np.mean(spec_bw)} {np.mean(rolloff)} {np.mean(zcr)}'    \n",
    "    for e in mfcc:\n",
    "        to_append += f' {np.mean(e)}'\n",
    "    y_denoise = reduce_noise(y, y_sr)\n",
    "    chroma_stft = librosa.feature.chroma_stft(y=y_denoise, sr=y_sr)\n",
    "    rmse = librosa.feature.rms(y=y_denoise)\n",
    "    spec_cent = librosa.feature.spectral_centroid(y=y_denoise, sr=sr)\n",
    "    spec_bw = librosa.feature.spectral_bandwidth(y=y_denoise, sr=sr)\n",
    "    rolloff = librosa.feature.spectral_rolloff(y=y_denoise, sr=sr)\n",
    "    zcr = librosa.feature.zero_crossing_rate(y_denoise)\n",
    "    mfcc = librosa.feature.mfcc(y=y_denoise, sr=sr)\n",
    "    to_append += f' {np.mean(chroma_stft)} {np.mean(rmse)} {np.mean(spec_cent)} {np.mean(spec_bw)} {np.mean(rolloff)} {np.mean(zcr)}'    \n",
    "    for e in mfcc:\n",
    "        to_append += f' {np.mean(e)}'\n",
    "    # print(to_append)\n",
    "    file = open('extracted_data.csv', 'a', newline='')\n",
    "    writer = csv.writer(file)\n",
    "    writer.writerow(to_append.split())\n",
    "    file.close()"
   ]
  },
  {
   "cell_type": "code",
   "execution_count": null,
   "metadata": {},
   "outputs": [],
   "source": [
    "sound_categories = dff['ebird_code'].unique()"
   ]
  },
  {
   "cell_type": "code",
   "execution_count": null,
   "metadata": {},
   "outputs": [],
   "source": [
    "category_progress = tqdm(sound_categories)\n",
    "for category_name in category_progress:\n",
    "    category_progress.desc = category_name\n",
    "    #Walk through the dataframe filename values\n",
    "    l_files = dff[dff['ebird_code'] == category_name]['filename'].values\n",
    "    tqdm.write(\"Bird: \"+category_name+\"  files: \"+str(len(l_files)))\n",
    "    for file_name in tqdm(l_files, desc='Files'):\n",
    "        try:\n",
    "            sound_path = audio_path/category_name/file_name\n",
    "            feature_extractor(sound_path, category_name, file_name)\n",
    "        except Exception as e:\n",
    "            print(e)\n",
    "            pass"
   ]
  }
 ],
 "metadata": {
  "kernelspec": {
   "display_name": "classifier-6kmiv1wi",
   "language": "python",
   "name": "python3"
  },
  "language_info": {
   "name": "python",
   "version": "3.10.6 (main, Nov 14 2022, 16:10:14) [GCC 11.3.0]"
  },
  "orig_nbformat": 4,
  "vscode": {
   "interpreter": {
    "hash": "301c2243a5f978eb8d0b3cbdd508660e93a1295d21275fecc963b64e41b6887b"
   }
  }
 },
 "nbformat": 4,
 "nbformat_minor": 2
}
