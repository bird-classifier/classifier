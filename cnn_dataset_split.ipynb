{
 "cells": [
  {
   "cell_type": "code",
   "execution_count": 43,
   "metadata": {},
   "outputs": [
    {
     "name": "stdout",
     "output_type": "stream",
     "text": [
      "['barswa', 'comrav', 'eucdov', 'houwre', 'mallar3']\n",
      "3954\n",
      "ebird_code\n",
      "aldfly     4\n",
      "ameavo     6\n",
      "amebit     3\n",
      "amecro    33\n",
      "amegfi     6\n",
      "          ..\n",
      "yebfly     3\n",
      "yehbla     1\n",
      "yelwar    13\n",
      "yerwar     9\n",
      "yetvir     1\n",
      "Name: ebird_code, Length: 224, dtype: int64\n"
     ]
    },
    {
     "name": "stderr",
     "output_type": "stream",
     "text": [
      "/tmp/ipykernel_105822/1090417959.py:30: UserWarning: Boolean Series key will be reindexed to match DataFrame index.\n",
      "  dff = dff[df['duration'] < 20]\n"
     ]
    },
    {
     "ename": "AttributeError",
     "evalue": "'Series' object has no attribute 'ebird_code'",
     "output_type": "error",
     "traceback": [
      "\u001b[0;31m---------------------------------------------------------------------------\u001b[0m",
      "\u001b[0;31mAttributeError\u001b[0m                            Traceback (most recent call last)",
      "Cell \u001b[0;32mIn[43], line 35\u001b[0m\n\u001b[1;32m     33\u001b[0m dfc \u001b[39m=\u001b[39m dff\u001b[39m.\u001b[39mgroupby(\u001b[39m'\u001b[39m\u001b[39mebird_code\u001b[39m\u001b[39m'\u001b[39m)[\u001b[39m'\u001b[39m\u001b[39mebird_code\u001b[39m\u001b[39m'\u001b[39m]\u001b[39m.\u001b[39mcount()\n\u001b[1;32m     34\u001b[0m \u001b[39mprint\u001b[39m(dfc)\n\u001b[0;32m---> 35\u001b[0m \u001b[39mprint\u001b[39m(dfc[dfc\u001b[39m.\u001b[39;49mebird_code \u001b[39m==\u001b[39m birds[\u001b[39m2\u001b[39m]])\n\u001b[1;32m     36\u001b[0m dff \u001b[39m=\u001b[39m dff[\u001b[39m~\u001b[39mdff[\u001b[39m'\u001b[39m\u001b[39mebird_code\u001b[39m\u001b[39m'\u001b[39m]\u001b[39m.\u001b[39misin(dfc[dfc\u001b[39m.\u001b[39mvalues \u001b[39m<\u001b[39m \u001b[39m20\u001b[39m]\u001b[39m.\u001b[39mindex)]\n\u001b[1;32m     38\u001b[0m \u001b[39mfor\u001b[39;00m nr,bird \u001b[39min\u001b[39;00m \u001b[39menumerate\u001b[39m(birds):\n",
      "File \u001b[0;32m~/.local/share/virtualenvs/classifier-6kmiv1wi/lib/python3.10/site-packages/pandas/core/generic.py:5902\u001b[0m, in \u001b[0;36mNDFrame.__getattr__\u001b[0;34m(self, name)\u001b[0m\n\u001b[1;32m   5895\u001b[0m \u001b[39mif\u001b[39;00m (\n\u001b[1;32m   5896\u001b[0m     name \u001b[39mnot\u001b[39;00m \u001b[39min\u001b[39;00m \u001b[39mself\u001b[39m\u001b[39m.\u001b[39m_internal_names_set\n\u001b[1;32m   5897\u001b[0m     \u001b[39mand\u001b[39;00m name \u001b[39mnot\u001b[39;00m \u001b[39min\u001b[39;00m \u001b[39mself\u001b[39m\u001b[39m.\u001b[39m_metadata\n\u001b[1;32m   5898\u001b[0m     \u001b[39mand\u001b[39;00m name \u001b[39mnot\u001b[39;00m \u001b[39min\u001b[39;00m \u001b[39mself\u001b[39m\u001b[39m.\u001b[39m_accessors\n\u001b[1;32m   5899\u001b[0m     \u001b[39mand\u001b[39;00m \u001b[39mself\u001b[39m\u001b[39m.\u001b[39m_info_axis\u001b[39m.\u001b[39m_can_hold_identifiers_and_holds_name(name)\n\u001b[1;32m   5900\u001b[0m ):\n\u001b[1;32m   5901\u001b[0m     \u001b[39mreturn\u001b[39;00m \u001b[39mself\u001b[39m[name]\n\u001b[0;32m-> 5902\u001b[0m \u001b[39mreturn\u001b[39;00m \u001b[39mobject\u001b[39;49m\u001b[39m.\u001b[39;49m\u001b[39m__getattribute__\u001b[39;49m(\u001b[39mself\u001b[39;49m, name)\n",
      "\u001b[0;31mAttributeError\u001b[0m: 'Series' object has no attribute 'ebird_code'"
     ]
    }
   ],
   "source": [
    "import os\n",
    "import pandas as pd\n",
    "# define number of files for all sets\n",
    "train = 0.8 # 80% of all sound should be in the train set\n",
    "# val = 0.1 # 10% validation set\n",
    "test = 0.2 # 10% test set\n",
    "kfolds = 1\n",
    "basePath=\"/media/sasanka/Expansion/xeno-canto-bird-recordings-extended-a-m/A-M/\" # path with sound files. Can be downloaded with \"AM_downloadData\"\n",
    "imPath = \"./data/mel_cleaned_images/\" # path with images (melspectrograms)\n",
    "                                # Can be generated with \"AM_prepareData\" after downloading sound files\n",
    "destPath = \"./data/5_class/\" # destination path - where the split dataset should be copied\n",
    "                            # This folder will be used to train CNNs\n",
    "\n",
    "# first find all of the mp3 files in the directory\n",
    "birds=['barswa', 'comrav', 'eucdov', 'houwre', 'mallar3'] # list of all bird spiecies (Ember, Phyll...)\n",
    "singleBirdList=[] # list of files for one bird\n",
    "allFilesList=[] # list of all files for all birds. A list of singleBirdLists. \n",
    "print(birds)\n",
    "\n",
    "trainSet=[]\n",
    "testSet=[]\n",
    "valSet=[]\n",
    "\n",
    "birdsShort=[] # list of short file names\n",
    "birdNumber=0\n",
    "df = pd.read_csv('./train_extended.csv')\n",
    "# Selecting high-rated sound only\n",
    "dff = df[df['rating'] > 3.0]\n",
    "# Selecting shorter files only, less data to process\n",
    "dff = dff[df['duration'] < 20]\n",
    "print(len(dff))\n",
    "# Selecting birds with more than 10 examples left\n",
    "dfc = dff.groupby('ebird_code')['ebird_code'].count()\n",
    "print(dfc)\n",
    "print(dfc[dfc.ebird_code == birds[2]])\n",
    "dff = dff[~dff['ebird_code'].isin(dfc[dfc.values < 20].index)]\n",
    "\n",
    "for nr,bird in enumerate(birds):\n",
    "    df_single_bird = dff[dff['ebird_code'] == birds[nr]]\n",
    "    for i in range(len(dff[dff['ebird_code'] == birds[0]])):\n",
    "        try:\n",
    "            # print(nr, birds[nr], i)\n",
    "            # print(df_single_bird.groupby('ebird_code')['ebird_code'].count())\n",
    "            filename = df_single_bird.iloc[i]['filename']\n",
    "        except Exception as e:\n",
    "            print(df_single_bird.iloc[i])\n",
    "            pass\n",
    "        singleBirdList.append(os.path.join(basePath+bird, filename))\n",
    "    # if len(singleBirdList) > 50:\n",
    "    #     birdsShort.append(str(birdNumber)+bird[:5])\n",
    "    #     birdNumber = birdNumber+1\n",
    "    #     print(\"Found \", len(singleBirdList), ' mp3 files for ', bird)\n",
    "    #     trainSet.append(int(train*len(singleBirdList)))\n",
    "    #     # valSet.append(int(val*len(singleBirdList)))\n",
    "    #     roundDiff = len(singleBirdList)-(int(train*len(singleBirdList))+int(test*len(singleBirdList))) \n",
    "    #     testSet.append(int(test*len(singleBirdList)) + roundDiff)\n",
    "    #     print(\"Size of train: \", int(train*len(singleBirdList)), \", test: \",int(test*len(singleBirdList)))\n",
    "    #     allFilesList.append(singleBirdList)\n",
    "    # singleBirdList=[]\n",
    "\n",
    "print(singleBirdList)\n",
    "# print(trainSet)\n",
    "# print(testSet)"
   ]
  },
  {
   "cell_type": "code",
   "execution_count": 9,
   "metadata": {},
   "outputs": [
    {
     "name": "stdout",
     "output_type": "stream",
     "text": [
      "Selected random files number:\n",
      " train:  486 / 486 , val:  60 / 60 , test:  62 / 62\n",
      "Selected random files number:\n",
      " train:  711 / 711 , val:  88 / 88 , test:  90 / 90\n",
      "Selected random files number:\n",
      " train:  254 / 254 , val:  31 / 31 , test:  33 / 33\n",
      "Selected random files number:\n",
      " train:  787 / 787 , val:  98 / 98 , test:  99 / 99\n",
      "Selected random files number:\n",
      " train:  325 / 325 , val:  40 / 40 , test:  42 / 42\n"
     ]
    }
   ],
   "source": [
    "# randomly choose mp3 files for each set  \n",
    "\n",
    "from random import sample\n",
    "\n",
    "trainFiles=[]\n",
    "valFiles=[]\n",
    "testFiles=[]\n",
    "\n",
    "for index, singleBirdList in enumerate(allFilesList):\n",
    "    randFiles = sample(range(len(singleBirdList)), len(singleBirdList))\n",
    "    start = 0\n",
    "    end = trainSet[index]\n",
    "    trainFiles.append(randFiles[start:end])\n",
    "    start = end \n",
    "    end = start + valSet[index]\n",
    "    valFiles.append(randFiles[start:end])\n",
    "    start = end \n",
    "    end = start + testSet[index] \n",
    "    testFiles.append(randFiles[start:end])\n",
    "    print(\"Selected random files number:\\n train: \", len(trainFiles[index]),\"/\",trainSet[index],\n",
    "          \", val: \",len(valFiles[index]),\"/\",valSet[index],\n",
    "          \", test: \",len(testFiles[index]),\"/\",testSet[index])"
   ]
  }
 ],
 "metadata": {
  "kernelspec": {
   "display_name": "Python 3.10.6 ('classifier-6kmiv1wi')",
   "language": "python",
   "name": "python3"
  },
  "language_info": {
   "codemirror_mode": {
    "name": "ipython",
    "version": 3
   },
   "file_extension": ".py",
   "mimetype": "text/x-python",
   "name": "python",
   "nbconvert_exporter": "python",
   "pygments_lexer": "ipython3",
   "version": "3.10.6"
  },
  "orig_nbformat": 4,
  "vscode": {
   "interpreter": {
    "hash": "301c2243a5f978eb8d0b3cbdd508660e93a1295d21275fecc963b64e41b6887b"
   }
  }
 },
 "nbformat": 4,
 "nbformat_minor": 2
}
